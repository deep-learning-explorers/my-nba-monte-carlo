{
 "cells": [
  {
   "cell_type": "raw",
   "id": "2434a00d-1387-4ad9-8666-bcce61c7e76d",
   "metadata": {},
   "source": [
    "---\n",
    "description: The Modern Data Stack In A Box Explained\n",
    "title: mds-in-a-box explained\n",
    "output-file: index.html\n",
    "---"
   ]
  },
  {
   "cell_type": "code",
   "execution_count": 1,
   "id": "dc1bd685-ca41-4ba6-bc4d-71c02e8d2d07",
   "metadata": {},
   "outputs": [],
   "source": [
    "#| hide\n",
    "%reload_ext autoreload\n",
    "%autoreload 2"
   ]
  },
  {
   "cell_type": "code",
   "execution_count": 2,
   "id": "46cca25f-f211-41e8-94f8-92346ae1c3da",
   "metadata": {},
   "outputs": [],
   "source": [
    "import os\n",
    "import shutil\n",
    "import pathlib\n",
    "import sqlmesh"
   ]
  },
  {
   "cell_type": "code",
   "execution_count": 5,
   "id": "fd28b887-8239-4f50-b77d-92fac0e5900d",
   "metadata": {},
   "outputs": [
    {
     "data": {
      "text/plain": [
       "PosixPath('/home/butch2/play/study/learn-sqlmesh/my-nba-monte-carlo')"
      ]
     },
     "execution_count": 5,
     "metadata": {},
     "output_type": "execute_result"
    }
   ],
   "source": [
    "root_dir = pathlib.Path(os.getcwd()).parents[0]\n",
    "root_dir"
   ]
  },
  {
   "cell_type": "code",
   "execution_count": 6,
   "id": "d7d62975-7f4b-42f5-aed8-2bb3f85979ed",
   "metadata": {},
   "outputs": [
    {
     "data": {
      "text/plain": [
       "PosixPath('/home/butch2/play/study/learn-sqlmesh/my-nba-monte-carlo/sqlmesh')"
      ]
     },
     "execution_count": 6,
     "metadata": {},
     "output_type": "execute_result"
    }
   ],
   "source": [
    "sqlmesh_project_dir = root_dir/'sqlmesh'\n",
    "sqlmesh_project_dir"
   ]
  },
  {
   "cell_type": "code",
   "execution_count": null,
   "id": "5f531182-0f4b-4a4c-9abd-f984544577d7",
   "metadata": {},
   "outputs": [],
   "source": []
  }
 ],
 "metadata": {
  "kernelspec": {
   "display_name": "Python 3 (ipykernel)",
   "language": "python",
   "name": "python3"
  },
  "language_info": {
   "codemirror_mode": {
    "name": "ipython",
    "version": 3
   },
   "file_extension": ".py",
   "mimetype": "text/x-python",
   "name": "python",
   "nbconvert_exporter": "python",
   "pygments_lexer": "ipython3",
   "version": "3.12.1"
  },
  "widgets": {
   "application/vnd.jupyter.widget-state+json": {
    "state": {},
    "version_major": 2,
    "version_minor": 0
   }
  }
 },
 "nbformat": 4,
 "nbformat_minor": 5
}
